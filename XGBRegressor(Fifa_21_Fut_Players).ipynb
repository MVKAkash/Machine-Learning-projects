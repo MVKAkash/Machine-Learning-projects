{
  "nbformat": 4,
  "nbformat_minor": 0,
  "metadata": {
    "colab": {
      "provenance": []
    },
    "kernelspec": {
      "name": "python3",
      "display_name": "Python 3"
    },
    "language_info": {
      "name": "python"
    }
  },
  "cells": [
    {
      "cell_type": "code",
      "source": [
        "import pandas as pd\n",
        "import numpy as np\n",
        "from sklearn.model_selection import train_test_split\n",
        "from sklearn.preprocessing import LabelEncoder\n",
        "from xgboost import XGBRegressor\n",
        "from sklearn.metrics import mean_absolute_error, mean_squared_error, r2_score"
      ],
      "metadata": {
        "id": "bznBtSPsuc-k"
      },
      "execution_count": 8,
      "outputs": []
    },
    {
      "cell_type": "code",
      "execution_count": 9,
      "metadata": {
        "colab": {
          "base_uri": "https://localhost:8080/"
        },
        "id": "7nmoQSFktzB8",
        "outputId": "1857fea7-6d7a-473d-8d38-4220e237ec59"
      },
      "outputs": [
        {
          "output_type": "stream",
          "name": "stderr",
          "text": [
            "<ipython-input-9-db39e9d69599>:10: FutureWarning: A value is trying to be set on a copy of a DataFrame or Series through chained assignment using an inplace method.\n",
            "The behavior will change in pandas 3.0. This inplace method will never work because the intermediate object on which we are setting values always behaves as a copy.\n",
            "\n",
            "For example, when doing 'df[col].method(value, inplace=True)', try using 'df.method({col: value}, inplace=True)' or df[col] = df[col].method(value) instead, to perform the operation inplace on the original object.\n",
            "\n",
            "\n",
            "  df_cleaned[col].fillna(df_cleaned[col].mode()[0], inplace=True)\n",
            "<ipython-input-9-db39e9d69599>:12: FutureWarning: A value is trying to be set on a copy of a DataFrame or Series through chained assignment using an inplace method.\n",
            "The behavior will change in pandas 3.0. This inplace method will never work because the intermediate object on which we are setting values always behaves as a copy.\n",
            "\n",
            "For example, when doing 'df[col].method(value, inplace=True)', try using 'df.method({col: value}, inplace=True)' or df[col] = df[col].method(value) instead, to perform the operation inplace on the original object.\n",
            "\n",
            "\n",
            "  df_cleaned[col].fillna(df_cleaned[col].median(), inplace=True)\n"
          ]
        }
      ],
      "source": [
        "# Load dataset (Update path accordingly in Colab)\n",
        "file_path = \"/content/drive/MyDrive/Data_set/ML project/Fifa 21 Fut Players.csv\"\n",
        "df = pd.read_csv(file_path)\n",
        "\n",
        "# Drop unnecessary columns\n",
        "df_cleaned = df.drop(columns=['Name', 'PS', 'IGS'], errors='ignore')\n",
        "\n",
        "# Handle missing values (categorical: mode, numerical: median)\n",
        "for col in df_cleaned.select_dtypes(include=['object']).columns:\n",
        "    df_cleaned[col].fillna(df_cleaned[col].mode()[0], inplace=True)\n",
        "for col in df_cleaned.select_dtypes(include=['int64', 'float64']).columns:\n",
        "    df_cleaned[col].fillna(df_cleaned[col].median(), inplace=True)\n",
        "\n",
        "# Label Encoding for categorical features\n",
        "label_encoders = {}\n",
        "for col in df_cleaned.select_dtypes(include=['object']).columns:\n",
        "    le = LabelEncoder()\n",
        "    df_cleaned[col] = le.fit_transform(df_cleaned[col])\n",
        "    label_encoders[col] = le\n",
        "\n",
        "# Define features and target\n",
        "X = df_cleaned.drop(columns=['Ratings'], errors='ignore')  # Ratings as target\n",
        "y = df_cleaned['Ratings']\n",
        "\n",
        "# Use a subset (5,000 samples) to optimize training time\n",
        "X_sample, _, y_sample, _ = train_test_split(X, y, train_size=5000, random_state=42)\n",
        "\n",
        "# Train-Test Split\n",
        "X_train, X_test, y_train, y_test = train_test_split(X_sample, y_sample, test_size=0.2, random_state=42)\n",
        "\n",
        "# Train XGBoost Regressor\n",
        "xgb_model = XGBRegressor(n_estimators=50, learning_rate=0.1, random_state=42)\n",
        "xgb_model.fit(X_train, y_train)\n",
        "\n",
        "# Predictions\n",
        "y_pred = xgb_model.predict(X_test)\n",
        "\n",
        "# Model Evaluation\n",
        "mae = mean_absolute_error(y_test, y_pred)\n",
        "mse = mean_squared_error(y_test, y_pred)\n",
        "rmse = np.sqrt(mse)\n",
        "r2 = r2_score(y_test, y_pred)"
      ]
    },
    {
      "cell_type": "code",
      "source": [
        "print(f\"MAE: {mae}\")\n",
        "print(f\"RMSE: {rmse}\")\n",
        "print(f\"R² Score: {r2}\")"
      ],
      "metadata": {
        "colab": {
          "base_uri": "https://localhost:8080/"
        },
        "id": "0zsja_rOuPb9",
        "outputId": "51c8b5a0-9af9-4220-b10c-7e25cd733e17"
      },
      "execution_count": 10,
      "outputs": [
        {
          "output_type": "stream",
          "name": "stdout",
          "text": [
            "MAE: 1.0507656335830688\n",
            "RMSE: 1.3920129857142698\n",
            "R² Score: 0.9774340987205505\n"
          ]
        }
      ]
    },
    {
      "cell_type": "code",
      "source": [],
      "metadata": {
        "id": "ZXvlBEwhuj1c"
      },
      "execution_count": null,
      "outputs": []
    }
  ]
}