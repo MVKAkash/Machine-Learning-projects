{
  "nbformat": 4,
  "nbformat_minor": 0,
  "metadata": {
    "colab": {
      "provenance": []
    },
    "kernelspec": {
      "name": "python3",
      "display_name": "Python 3"
    },
    "language_info": {
      "name": "python"
    }
  },
  "cells": [
    {
      "cell_type": "code",
      "source": [
        "import pandas as pd\n",
        "import numpy as np\n",
        "from sklearn.model_selection import train_test_split\n",
        "from sklearn.ensemble import RandomForestClassifier, RandomForestRegressor\n",
        "from sklearn.metrics import accuracy_score, classification_report, mean_squared_error\n",
        "from sklearn.preprocessing import OrdinalEncoder\n",
        "import matplotlib.pyplot as plt\n",
        "import seaborn as sns"
      ],
      "metadata": {
        "id": "LGLrTv9WIdAL"
      },
      "execution_count": null,
      "outputs": []
    },
    {
      "cell_type": "code",
      "source": [
        "data = pd.read_csv('/content/drive/MyDrive/Data_set/ML project/tested (1).csv')\n",
        "print(\"\\nData info\")\n",
        "print(data.info())\n",
        "print(\"\\nData Description\")\n",
        "print(data.describe())\n"
      ],
      "metadata": {
        "colab": {
          "base_uri": "https://localhost:8080/"
        },
        "id": "GJCvO7p0JK7e",
        "outputId": "90455902-4a59-4951-e720-e0b134511c77"
      },
      "execution_count": null,
      "outputs": [
        {
          "output_type": "stream",
          "name": "stdout",
          "text": [
            "\n",
            "Data info\n",
            "<class 'pandas.core.frame.DataFrame'>\n",
            "RangeIndex: 418 entries, 0 to 417\n",
            "Data columns (total 12 columns):\n",
            " #   Column       Non-Null Count  Dtype  \n",
            "---  ------       --------------  -----  \n",
            " 0   PassengerId  418 non-null    int64  \n",
            " 1   Survived     418 non-null    int64  \n",
            " 2   Pclass       418 non-null    int64  \n",
            " 3   Name         418 non-null    object \n",
            " 4   Sex          418 non-null    object \n",
            " 5   Age          332 non-null    float64\n",
            " 6   SibSp        418 non-null    int64  \n",
            " 7   Parch        418 non-null    int64  \n",
            " 8   Ticket       418 non-null    object \n",
            " 9   Fare         417 non-null    float64\n",
            " 10  Cabin        91 non-null     object \n",
            " 11  Embarked     418 non-null    object \n",
            "dtypes: float64(2), int64(5), object(5)\n",
            "memory usage: 39.3+ KB\n",
            "None\n",
            "\n",
            "Data Description\n",
            "       PassengerId    Survived      Pclass         Age       SibSp  \\\n",
            "count   418.000000  418.000000  418.000000  332.000000  418.000000   \n",
            "mean   1100.500000    0.363636    2.265550   30.272590    0.447368   \n",
            "std     120.810458    0.481622    0.841838   14.181209    0.896760   \n",
            "min     892.000000    0.000000    1.000000    0.170000    0.000000   \n",
            "25%     996.250000    0.000000    1.000000   21.000000    0.000000   \n",
            "50%    1100.500000    0.000000    3.000000   27.000000    0.000000   \n",
            "75%    1204.750000    1.000000    3.000000   39.000000    1.000000   \n",
            "max    1309.000000    1.000000    3.000000   76.000000    8.000000   \n",
            "\n",
            "            Parch        Fare  \n",
            "count  418.000000  417.000000  \n",
            "mean     0.392344   35.627188  \n",
            "std      0.981429   55.907576  \n",
            "min      0.000000    0.000000  \n",
            "25%      0.000000    7.895800  \n",
            "50%      0.000000   14.454200  \n",
            "75%      0.000000   31.500000  \n",
            "max      9.000000  512.329200  \n"
          ]
        }
      ]
    },
    {
      "cell_type": "code",
      "source": [
        "print(\"Sample data\")\n",
        "print(data.head())"
      ],
      "metadata": {
        "colab": {
          "base_uri": "https://localhost:8080/"
        },
        "id": "XYHVCrzQJOYA",
        "outputId": "fc7cdebc-96aa-402d-ebc6-6f1da18fc93e"
      },
      "execution_count": null,
      "outputs": [
        {
          "output_type": "stream",
          "name": "stdout",
          "text": [
            "Sample data\n",
            "   PassengerId  Survived  Pclass  \\\n",
            "0          892         0       3   \n",
            "1          893         1       3   \n",
            "2          894         0       2   \n",
            "3          895         0       3   \n",
            "4          896         1       3   \n",
            "\n",
            "                                           Name     Sex   Age  SibSp  Parch  \\\n",
            "0                              Kelly, Mr. James    male  34.5      0      0   \n",
            "1              Wilkes, Mrs. James (Ellen Needs)  female  47.0      1      0   \n",
            "2                     Myles, Mr. Thomas Francis    male  62.0      0      0   \n",
            "3                              Wirz, Mr. Albert    male  27.0      0      0   \n",
            "4  Hirvonen, Mrs. Alexander (Helga E Lindqvist)  female  22.0      1      1   \n",
            "\n",
            "    Ticket     Fare Cabin Embarked  \n",
            "0   330911   7.8292   NaN        Q  \n",
            "1   363272   7.0000   NaN        S  \n",
            "2   240276   9.6875   NaN        Q  \n",
            "3   315154   8.6625   NaN        S  \n",
            "4  3101298  12.2875   NaN        S  \n"
          ]
        }
      ]
    },
    {
      "cell_type": "markdown",
      "source": [
        "Data Preprocessing"
      ],
      "metadata": {
        "id": "iawD9FP1KHDe"
      }
    },
    {
      "cell_type": "code",
      "source": [
        "# check missing values\n",
        "print(\"\\nMissing values:\")\n",
        "print(data.isnull().sum())\n",
        "\n",
        "# Handling missing values - replace with median for numerical features and most frequent value for categorical features\n",
        "for column in data.columns:\n",
        "    if data[column].dtype == 'object':\n",
        "        data[column] = data[column].fillna(data[column].mode()[0])\n",
        "    elif data[column].isnull().any():\n",
        "        data[column] = data[column].fillna(data[column].median())\n",
        "\n",
        "\n",
        "# Check the frequency distribution of values in numerical variables\n",
        "print(\"\\nFrequency Distribution of Numerical Variables:\")\n",
        "for col in data.select_dtypes(include=np.number).columns:\n",
        "    print(f\"\\nColumn: {col}\")\n",
        "    print(data[col].value_counts())\n",
        "\n",
        "# Check the frequency counts of categorical variables\n",
        "print(\"\\nFrequency Counts of Categorical Variables:\")\n",
        "for col in data.select_dtypes(include='object').columns:\n",
        "    print(f\"\\nColumn: {col}\")\n",
        "    print(data[col].value_counts())\n",
        "\n",
        "# Split the data into features and target variable\n",
        "X = data.drop(['PassengerId', 'Name', 'Survived','Ticket','Cabin'], axis=1)\n",
        "y = data['Survived']\n",
        "\n",
        "\n",
        "# Convert categorical features to numerical using ordinal encoding\n",
        "sex_mapping = ['male', 'female']\n",
        "embarked_mapping = ['C', 'Q', 'S']\n",
        "\n",
        "\n",
        "encoder = OrdinalEncoder(categories=[sex_mapping, embarked_mapping])\n",
        "X[['Sex','Embarked']] = encoder.fit_transform(X[['Sex','Embarked']])\n",
        "\n",
        "\n",
        "# Ensure that 'Sex' and 'Embarked' are categorical\n",
        "X[['Sex', 'Embarked']] = X[['Sex', 'Embarked']].astype(str)\n",
        "\n",
        "# Define the mappings for the categorical columns\n",
        "sex_mapping = ['male', 'female']\n",
        "embarked_mapping = ['C', 'Q', 'S']\n"
      ],
      "metadata": {
        "colab": {
          "base_uri": "https://localhost:8080/"
        },
        "id": "1UDevy7iJ9bq",
        "outputId": "98fb6e17-7a69-4859-c15b-a67f98f9c37b"
      },
      "execution_count": null,
      "outputs": [
        {
          "output_type": "stream",
          "name": "stdout",
          "text": [
            "\n",
            "Missing values:\n",
            "PassengerId    0\n",
            "Survived       0\n",
            "Pclass         0\n",
            "Name           0\n",
            "Sex            0\n",
            "Age            0\n",
            "SibSp          0\n",
            "Parch          0\n",
            "Ticket         0\n",
            "Fare           0\n",
            "Cabin          0\n",
            "Embarked       0\n",
            "dtype: int64\n",
            "\n",
            "Frequency Distribution of Numerical Variables:\n",
            "\n",
            "Column: PassengerId\n",
            "PassengerId\n",
            "892     1\n",
            "1205    1\n",
            "1177    1\n",
            "1176    1\n",
            "1175    1\n",
            "       ..\n",
            "1028    1\n",
            "1027    1\n",
            "1026    1\n",
            "1025    1\n",
            "1309    1\n",
            "Name: count, Length: 418, dtype: int64\n",
            "\n",
            "Column: Survived\n",
            "Survived\n",
            "0    266\n",
            "1    152\n",
            "Name: count, dtype: int64\n",
            "\n",
            "Column: Pclass\n",
            "Pclass\n",
            "3    218\n",
            "1    107\n",
            "2     93\n",
            "Name: count, dtype: int64\n",
            "\n",
            "Column: Age\n",
            "Age\n",
            "27.0    98\n",
            "21.0    17\n",
            "24.0    17\n",
            "22.0    16\n",
            "30.0    15\n",
            "        ..\n",
            "76.0     1\n",
            "28.5     1\n",
            "22.5     1\n",
            "62.0     1\n",
            "38.5     1\n",
            "Name: count, Length: 79, dtype: int64\n",
            "\n",
            "Column: SibSp\n",
            "SibSp\n",
            "0    283\n",
            "1    110\n",
            "2     14\n",
            "3      4\n",
            "4      4\n",
            "8      2\n",
            "5      1\n",
            "Name: count, dtype: int64\n",
            "\n",
            "Column: Parch\n",
            "Parch\n",
            "0    324\n",
            "1     52\n",
            "2     33\n",
            "3      3\n",
            "4      2\n",
            "9      2\n",
            "6      1\n",
            "5      1\n",
            "Name: count, dtype: int64\n",
            "\n",
            "Column: Fare\n",
            "Fare\n",
            "7.7500     21\n",
            "26.0000    19\n",
            "13.0000    17\n",
            "8.0500     17\n",
            "7.8958     11\n",
            "           ..\n",
            "7.8208      1\n",
            "8.5167      1\n",
            "78.8500     1\n",
            "52.0000     1\n",
            "22.3583     1\n",
            "Name: count, Length: 169, dtype: int64\n",
            "\n",
            "Frequency Counts of Categorical Variables:\n",
            "\n",
            "Column: Name\n",
            "Name\n",
            "Kelly, Mr. James               1\n",
            "Carr, Miss. Jeannie            1\n",
            "Dennis, Mr. William            1\n",
            "Rosblom, Miss. Salli Helena    1\n",
            "Touma, Miss. Maria Youssef     1\n",
            "                              ..\n",
            "Zakarian, Mr. Mapriededer      1\n",
            "Carlsson, Mr. Carl Robert      1\n",
            "Dintcheff, Mr. Valtcho         1\n",
            "Thomas, Mr. Charles P          1\n",
            "Peter, Master. Michael J       1\n",
            "Name: count, Length: 418, dtype: int64\n",
            "\n",
            "Column: Sex\n",
            "Sex\n",
            "male      266\n",
            "female    152\n",
            "Name: count, dtype: int64\n",
            "\n",
            "Column: Ticket\n",
            "Ticket\n",
            "PC 17608    5\n",
            "CA. 2343    4\n",
            "113503      4\n",
            "PC 17483    3\n",
            "220845      3\n",
            "           ..\n",
            "349226      1\n",
            "2621        1\n",
            "4133        1\n",
            "113780      1\n",
            "2668        1\n",
            "Name: count, Length: 363, dtype: int64\n",
            "\n",
            "Column: Cabin\n",
            "Cabin\n",
            "B57 B59 B63 B66    330\n",
            "C89                  2\n",
            "C116                 2\n",
            "C80                  2\n",
            "C55 C57              2\n",
            "                  ... \n",
            "E45                  1\n",
            "E52                  1\n",
            "D30                  1\n",
            "C62 C64              1\n",
            "C105                 1\n",
            "Name: count, Length: 76, dtype: int64\n",
            "\n",
            "Column: Embarked\n",
            "Embarked\n",
            "S    270\n",
            "C    102\n",
            "Q     46\n",
            "Name: count, dtype: int64\n"
          ]
        }
      ]
    },
    {
      "cell_type": "code",
      "source": [
        "# 3. Train-Test Split\n",
        "X_train, X_test, y_train, y_test = train_test_split(X, y, test_size=0.2, random_state=42)\n",
        "\n",
        "print(\"\\nShape of X_train:\", X_train.shape)\n",
        "print(\"Shape of X_test:\", X_test.shape)\n",
        "print(\"\\nData types in X_train:\")\n",
        "print(X_train.dtypes)"
      ],
      "metadata": {
        "colab": {
          "base_uri": "https://localhost:8080/"
        },
        "id": "EwiKp03fKv_7",
        "outputId": "67173a1f-07d2-4bec-e609-7e24258e71b1"
      },
      "execution_count": null,
      "outputs": [
        {
          "output_type": "stream",
          "name": "stdout",
          "text": [
            "\n",
            "Shape of X_train: (334, 8)\n",
            "Shape of X_test: (84, 8)\n",
            "\n",
            "Data types in X_train:\n",
            "Sex         float64\n",
            "Age         float64\n",
            "SibSp         int64\n",
            "Parch         int64\n",
            "Fare        float64\n",
            "Embarked    float64\n",
            "Pclass_2       bool\n",
            "Pclass_3       bool\n",
            "dtype: object\n"
          ]
        }
      ]
    },
    {
      "cell_type": "code",
      "source": [
        "# 4. Model Creation\n",
        "model = RandomForestClassifier(random_state=42)\n",
        "\n",
        "# 5. Model Training\n",
        "model.fit(X_train, y_train)\n",
        "\n",
        "# 6. Prediction\n",
        "y_pred = model.predict(X_test)"
      ],
      "metadata": {
        "id": "5Z-B7yM3Kz5M"
      },
      "execution_count": null,
      "outputs": []
    },
    {
      "cell_type": "code",
      "source": [
        "# 7. Model Evaluation\n",
        "accuracy = accuracy_score(y_test, y_pred)\n",
        "cr = classification_report(y_test, y_pred, zero_division=0)\n",
        "\n",
        "print(\"\\nAccuracy Score:\", accuracy)\n",
        "print(\"\\nClassification Report:\\n\", cr)"
      ],
      "metadata": {
        "colab": {
          "base_uri": "https://localhost:8080/"
        },
        "id": "RyOYLU_ZK3YT",
        "outputId": "d7d71609-fd27-40bb-d3ba-3e7b227aa9c7"
      },
      "execution_count": null,
      "outputs": [
        {
          "output_type": "stream",
          "name": "stdout",
          "text": [
            "\n",
            "Accuracy Score: 1.0\n",
            "\n",
            "Classification Report:\n",
            "               precision    recall  f1-score   support\n",
            "\n",
            "           0       1.00      1.00      1.00        50\n",
            "           1       1.00      1.00      1.00        34\n",
            "\n",
            "    accuracy                           1.00        84\n",
            "   macro avg       1.00      1.00      1.00        84\n",
            "weighted avg       1.00      1.00      1.00        84\n",
            "\n"
          ]
        }
      ]
    },
    {
      "cell_type": "code",
      "source": [
        "# 8. Visualization\n",
        "print(\"\\nFeature Importances Plot\")\n",
        "feature_importance = pd.DataFrame({'feature': X.columns, 'importance': model.feature_importances_})\n",
        "feature_importance = feature_importance.sort_values('importance', ascending=False)\n",
        "\n",
        "plt.figure(figsize=(10, 6))\n",
        "plt.bar(feature_importance['feature'], feature_importance['importance'])\n",
        "plt.xlabel(\"Features\")\n",
        "plt.ylabel(\"Importance\")\n",
        "plt.title(\"Feature Importance from Random Forest\")\n",
        "plt.xticks(rotation=90)\n",
        "plt.tight_layout()\n",
        "plt.show()"
      ],
      "metadata": {
        "colab": {
          "base_uri": "https://localhost:8080/",
          "height": 643
        },
        "id": "2pZLmMV-LDl-",
        "outputId": "8c95ef38-78ed-4292-9bbd-152825a235a4"
      },
      "execution_count": null,
      "outputs": [
        {
          "output_type": "stream",
          "name": "stdout",
          "text": [
            "\n",
            "Feature Importances Plot\n"
          ]
        },
        {
          "output_type": "display_data",
          "data": {
            "text/plain": [
              "<Figure size 1000x600 with 1 Axes>"
            ],
            "image/png": "[encoded data removed]"
          },
          "metadata": {}
        }
      ]
    },
    {
      "cell_type": "code",
      "source": [
        "# 9. Insights and Stats\n",
        "print(\"\\n***Insights & Stats***\")\n",
        "\n",
        "#Feature Importance\n",
        "print(\"\\nFeature Importance (Coefficients):\")\n",
        "print(feature_importance)\n",
        "\n",
        "#Descriptive statistics of target variable\n",
        "print(\"\\nDescriptive Statistics of Target Variable:\")\n",
        "print(y.describe())\n",
        "\n",
        "# Distribution of target variable\n",
        "print(\"\\nDistribution of Target Variable:\")\n",
        "plt.figure(figsize=(8, 5))\n",
        "sns.histplot(y, kde=True, color='skyblue')\n",
        "plt.title(\"Distribution of Target Variable\")\n",
        "plt.show()\n",
        "\n",
        "# Descriptive statistics of numerical features\n",
        "print(\"\\nDescriptive Statistics of Numerical Features:\")\n",
        "print(X.describe())"
      ],
      "metadata": {
        "colab": {
          "base_uri": "https://localhost:8080/",
          "height": 1000
        },
        "id": "U6SjV8R7Lqj5",
        "outputId": "621bb805-03e5-434d-81c5-1160e970ee85"
      },
      "execution_count": null,
      "outputs": [
        {
          "output_type": "stream",
          "name": "stdout",
          "text": [
            "\n",
            "***Insights & Stats***\n",
            "\n",
            "Feature Importance (Coefficients):\n",
            "    feature  importance\n",
            "0       Sex    0.824704\n",
            "4      Fare    0.061473\n",
            "1       Age    0.048253\n",
            "3     Parch    0.023060\n",
            "2     SibSp    0.016444\n",
            "5  Embarked    0.014552\n",
            "7  Pclass_3    0.006699\n",
            "6  Pclass_2    0.004815\n",
            "\n",
            "Descriptive Statistics of Target Variable:\n",
            "count    418.000000\n",
            "mean       0.363636\n",
            "std        0.481622\n",
            "min        0.000000\n",
            "25%        0.000000\n",
            "50%        0.000000\n",
            "75%        1.000000\n",
            "max        1.000000\n",
            "Name: Survived, dtype: float64\n",
            "\n",
            "Distribution of Target Variable:\n"
          ]
        },
        {
          "output_type": "display_data",
          "data": {
            "text/plain": [
              "<Figure size 800x500 with 1 Axes>"
            ],
            "image/png": "[encoded data removed]"
          },
          "metadata": {}
        },
        {
          "output_type": "stream",
          "name": "stdout",
          "text": [
            "\n",
            "Descriptive Statistics of Numerical Features:\n",
            "              Sex         Age       SibSp       Parch        Fare    Embarked\n",
            "count  418.000000  418.000000  418.000000  418.000000  418.000000  418.000000\n",
            "mean     0.363636   29.599282    0.447368    0.392344   35.576535    1.401914\n",
            "std      0.481622   12.703770    0.896760    0.981429   55.850103    0.854496\n",
            "min      0.000000    0.170000    0.000000    0.000000    0.000000    0.000000\n",
            "25%      0.000000   23.000000    0.000000    0.000000    7.895800    1.000000\n",
            "50%      0.000000   27.000000    0.000000    0.000000   14.454200    2.000000\n",
            "75%      1.000000   35.750000    1.000000    0.000000   31.471875    2.000000\n",
            "max      1.000000   76.000000    8.000000    9.000000  512.329200    2.000000\n"
          ]
        }
      ]
    }
  ]
}